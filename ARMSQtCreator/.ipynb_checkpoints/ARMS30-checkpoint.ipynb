{
 "cells": [
  {
   "cell_type": "code",
   "execution_count": 2,
   "metadata": {},
   "outputs": [],
   "source": [
    "import pandas as pd\n",
    "import pygsheets\n"
   ]
  },
  {
   "cell_type": "code",
   "execution_count": 7,
   "metadata": {},
   "outputs": [],
   "source": [
    "#Abre Arcos\n",
    "txtArcos = pd.read_csv('/Users/miguelmarengo/PycharmProjects/ARMSApp/old/Datos/ArcosSilodisa.txt', sep='\\t',\n",
    "                                      names=['ORIGEN', 'DESTINO', 'DISTANCIA', 'TIEMPO', 'LATITUD_DESTINO_A',\n",
    "                                             'LONGITUD_DESTINO_A', 'LATITUD_DESTINO_B', 'LONGITUD_DESTINO_B',\n",
    "                                             'FECHA_CALCULO'])\n"
   ]
  },
  {
   "cell_type": "code",
   "execution_count": 15,
   "metadata": {},
   "outputs": [],
   "source": [
    "# abre SS\n",
    "ss_nombre = '1r4riHQfFeDfmZpHoWPg5SuBw4U2xfb6XcikXD9PSTd8'\n",
    "#dfResultados = self.opt.carga_ss(config.ss_nombre_resultados, 'RESULTADOS', tipo_nombre_ss='key')\n",
    "#dfCompatibilidad = self.opt.carga_ss(config.ss_nombre_resultados, 'COMPATIBILIDAD', abierto=True)\n",
    "gc = pygsheets.authorize(outh_file='/Users/miguelmarengo/PycharmProjects/ARMSApp/IO/client_secret.json')\n",
    "sheet = gc.open_by_key(ss_nombre)\n",
    "# RESULTADOS\n",
    "wks = sheet.worksheet_by_title('RESULTADOS')\n",
    "R = wks.get_as_df()\n",
    "R.drop(R.index[0:3], inplace=True)\n",
    "# COMPATIBILIDAD\n",
    "wks = sheet.worksheet_by_title('COMPATIBILIDAD')\n",
    "C = wks.get_as_df()\n",
    "C.drop(C.index[0:3], inplace=True)\n",
    "\n"
   ]
  },
  {
   "cell_type": "code",
   "execution_count": null,
   "metadata": {
    "collapsed": true
   },
   "outputs": [],
   "source": [
    "viajes_y_destinos = R.groupby('Viaje','DesitnoTR1').OcupacionVolumen.max()"
   ]
  }
 ],
 "metadata": {
  "kernelspec": {
   "display_name": "Python 3",
   "language": "python",
   "name": "python3"
  },
  "language_info": {
   "codemirror_mode": {
    "name": "ipython",
    "version": 3
   },
   "file_extension": ".py",
   "mimetype": "text/x-python",
   "name": "python",
   "nbconvert_exporter": "python",
   "pygments_lexer": "ipython3",
   "version": "3.6.2"
  }
 },
 "nbformat": 4,
 "nbformat_minor": 2
}
